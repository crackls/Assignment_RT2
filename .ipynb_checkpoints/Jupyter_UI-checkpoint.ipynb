{
 "cells": [
  {
   "cell_type": "markdown",
   "id": "0f19001e",
   "metadata": {},
   "source": [
    "# RT2 Assignment 1\n",
    "## Before executing the cells, start the simulation enviroment with\n",
    "```bash\n",
    "$ roslaunch final_assignment init.launch\n",
    "```\n"
   ]
  },
  {
   "cell_type": "code",
   "execution_count": 1,
   "id": "60200a87",
   "metadata": {
    "ExecuteTime": {
     "end_time": "2022-05-31T16:12:23.846357Z",
     "start_time": "2022-05-31T16:12:19.142145Z"
    },
    "scrolled": false
   },
   "outputs": [
    {
     "data": {
      "application/vnd.jupyter.widget-view+json": {
       "model_id": "78b8eeaeff5e49a98f8198d1cbcb8172",
       "version_major": 2,
       "version_minor": 0
      },
      "text/plain": [
       "HBox(children=(Dropdown(description='Selection:', options=('', 'Autonomous driving', 'Free driving', 'Assisted…"
      ]
     },
     "metadata": {},
     "output_type": "display_data"
    },
    {
     "data": {
      "application/vnd.jupyter.widget-view+json": {
       "model_id": "123413a68f554cb4ad28cd5fb0a4fe55",
       "version_major": 2,
       "version_minor": 0
      },
      "text/plain": [
       "Output()"
      ]
     },
     "metadata": {},
     "output_type": "display_data"
    }
   ],
   "source": [
    "%matplotlib widget\n",
    "%matplotlib widget\n",
    "\n",
    "from ipywidgets import Button, ButtonStyle, Layout, GridBox, HBox, VBox\n",
    "from final_assignment.srv import Goal, GoalRequest\n",
    "from geometry_msgs.msg import Twist, Vector3\n",
    "from sensor_msgs.msg import LaserScan\n",
    "from nav_msgs.msg import Odometry\n",
    "from tf.transformations import quaternion_matrix\n",
    "import numpy as np\n",
    "from matplotlib.animation import FuncAnimation\n",
    "\n",
    "import os\n",
    "import jupyros as jr\n",
    "import rospy\n",
    "import ipywidgets as widgets\n",
    "import matplotlib.pyplot as plt\n",
    "import rospy\n",
    "import tf\n",
    "\n",
    "selection = widgets.Dropdown(\n",
    "    options=['', 'Autonomous driving', 'Free driving', 'Assisted driving'],\n",
    "    value='',\n",
    "    description='Selection:',\n",
    "    disabled=False,\n",
    ")\n",
    "\n",
    "button = widgets.Button(\n",
    "    description='Confirm',\n",
    "    disabled=False,\n",
    "    button_style='',\n",
    "    tooltip='Confirm',\n",
    "    icon='check'\n",
    ")\n",
    "\n",
    "button_1 = widgets.Button(\n",
    "    description='Confirm',\n",
    "    disabled=False,\n",
    "    button_style='',\n",
    "    tooltip='Confirm',\n",
    "    icon='check'\n",
    ")\n",
    "\n",
    "button_up = widgets.Button(\n",
    "    description='^',\n",
    "    disabled=False,\n",
    "    button_style='',\n",
    "    tooltip='Confirm',\n",
    ")\n",
    "\n",
    "button_down = widgets.Button(\n",
    "    description='\\/',\n",
    "    disabled=False,\n",
    "    button_style='',\n",
    "    tooltip='Confirm',\n",
    ")\n",
    "\n",
    "button_right = widgets.Button(\n",
    "    description='>',\n",
    "    disabled=False,\n",
    "    button_style='',\n",
    "    tooltip='Confirm',\n",
    ")\n",
    "\n",
    "button_left = widgets.Button(\n",
    "    description='<',\n",
    "    disabled=False,\n",
    "    button_style='',\n",
    "    tooltip='Confirm',\n",
    ")\n",
    "\n",
    "button_stop = widgets.Button(\n",
    "    description='Stop',\n",
    "    disabled=False,\n",
    "    button_style='',\n",
    "    tooltip='Confirm',\n",
    ")\n",
    "\n",
    "option1_x = widgets.FloatText(\n",
    "    value=0.0,\n",
    "    description='x:',\n",
    "    disabled=False\n",
    ")\n",
    "\n",
    "option1_y = widgets.FloatText(\n",
    "    value=0.0,\n",
    "    description='y:',\n",
    "    disabled=False\n",
    ")\n",
    "\n",
    "output = widgets.Output()\n",
    "output_1 = widgets.Output()\n",
    "output_2 = widgets.Output()\n",
    "\n",
    "box = HBox([selection, button])\n",
    "\n",
    "box_1 = VBox([VBox([option1_x, option1_y]), button_1])\n",
    "\n",
    "box_2 = VBox([HBox([button_stop, button_up]), HBox([button_left, button_down, button_right])])\n",
    "\n",
    "display(box, output)"
   ]
  },
  {
   "cell_type": "code",
   "execution_count": 2,
   "id": "639371ba",
   "metadata": {
    "ExecuteTime": {
     "end_time": "2022-05-31T16:12:24.034637Z",
     "start_time": "2022-05-31T16:12:23.856741Z"
    }
   },
   "outputs": [],
   "source": [
    "pub = rospy.Publisher(\"/cmd_vel\", Twist, queue_size=10)\n",
    "\n",
    "vel = Twist(Vector3(0, 0, 0), Vector3(0, 0, 0))\n",
    "\n",
    "dist_min = 0.5\n",
    "\n",
    "def ls_callBack(msg):\n",
    "    global distancia\n",
    "    distancia = msg.ranges\n",
    "\n",
    "def view(vision):\n",
    "    dist_l = 1000\n",
    "    dist_f = 1000\n",
    "    dist_r = 1000\n",
    "    i = 0\n",
    "    for d in vision:\n",
    "        if i <= 240:\n",
    "            if d < dist_l:\n",
    "                dist_l = d\n",
    "        elif i <= 480:\n",
    "            if d < dist_f:\n",
    "                dist_f = d\n",
    "        else:\n",
    "            if d < dist_r:\n",
    "                dist_r = d\n",
    "        i = i + 1\n",
    "    dist = [dist_l, dist_f, dist_r]\n",
    "    return dist\n",
    "\n",
    "\n",
    "def autonomous_clicked(b):\n",
    "    with output_1:\n",
    "        # waits for the server to be active\n",
    "        rospy.wait_for_service('goal')\n",
    "        print(\"Server active\")\n",
    "        # calls the server\n",
    "        x = float(option1_x.value)\n",
    "        y = float(option1_y.value)\n",
    "\n",
    "        goal = rospy.ServiceProxy('goal', Goal)\n",
    "        goal(x, y)\n",
    "\n",
    "\n",
    "def up_clicked(b):\n",
    "    with output_2:\n",
    "        vel.linear.x = vel.linear.x + 0.5\n",
    "        if selection.value == 'Assisted driving':\n",
    "            dist = view(distancia)\n",
    "            if dist[1] < dist_min:\n",
    "                vel.linear.x = 0\n",
    "        pub.publish(vel)\n",
    "\n",
    "\n",
    "def down_clicked(b):\n",
    "    with output_2:\n",
    "        vel.linear.x = vel.linear.x - 0.5\n",
    "        pub.publish(vel)\n",
    "\n",
    "\n",
    "def right_clicked(b):\n",
    "    with output_2:\n",
    "        vel.angular.z = vel.angular.z + 0.5\n",
    "        if selection.value == 'Assisted driving':\n",
    "            dist = view(distancia)\n",
    "            if dist[2] < dist_min:\n",
    "                vel.angular.z = 0\n",
    "        pub.publish(vel)\n",
    "\n",
    "\n",
    "def left_clicked(b):\n",
    "    with output_2:\n",
    "        vel.angular.z = vel.angular.z - 0.5\n",
    "        if selection.value == 'Assisted driving':\n",
    "            dist = view(distancia)\n",
    "            if dist[0] < dist_min:\n",
    "                vel.angular.z = 0\n",
    "        pub.publish(vel)\n",
    "\n",
    "\n",
    "def stop_clicked(b):\n",
    "    with output_2:\n",
    "        vel.angular.z = 0\n",
    "        vel.linear.x = 0\n",
    "        pub.publish(vel)\n",
    "\n",
    "\n",
    "def on_button_clicked(b):\n",
    "    with output:\n",
    "        rospy.init_node(\"node_sel\")\n",
    "        if selection.value == 'Autonomous driving':\n",
    "            print(\"============================================================\")\n",
    "            print(\"You have selected option 1, autonomous driving\")\n",
    "            print(\"Select the goal (x, y) you want to reach\")\n",
    "            display(box_1, output_1)\n",
    "            button_1.on_click(autonomous_clicked)\n",
    "\n",
    "        elif selection.value == 'Free driving':\n",
    "            print(\"============================================================\")\n",
    "            print(\"You have selected option 2, free driving\")\n",
    "            # Start the node\n",
    "            display(box_2, output_2)\n",
    "            button_up.on_click(up_clicked)\n",
    "            button_down.on_click(down_clicked)\n",
    "            button_right.on_click(right_clicked)\n",
    "            button_left.on_click(left_clicked)\n",
    "            button_stop.on_click(stop_clicked)\n",
    "\n",
    "        elif selection.value == 'Assisted driving':\n",
    "            print(\"============================================================\")\n",
    "            print(\"You have selected option 3, assisted driving\")\n",
    "            # Start the node\n",
    "            display(box_2, output_2)\n",
    "            button_up.on_click(up_clicked)\n",
    "            button_down.on_click(down_clicked)\n",
    "            button_right.on_click(right_clicked)\n",
    "            button_left.on_click(left_clicked)\n",
    "            button_stop.on_click(stop_clicked)\n",
    "\n",
    "        else:\n",
    "            print(\"Please, enter a valid option\")\n",
    "            \n",
    "\n",
    "jr.subscribe(\"/scan\", LaserScan, ls_callBack)\n",
    "button.on_click(on_button_clicked)"
   ]
  },
  {
   "cell_type": "code",
   "execution_count": 3,
   "id": "13b66560",
   "metadata": {
    "ExecuteTime": {
     "end_time": "2022-05-31T16:12:24.884711Z",
     "start_time": "2022-05-31T16:12:24.051848Z"
    }
   },
   "outputs": [
    {
     "data": {
      "image/png": "[encoded data removed]",
      "text/plain": [
       "<Figure size 432x288 with 1 Axes>"
      ]
     },
     "metadata": {
      "needs_background": "light"
     },
     "output_type": "display_data"
    }
   ],
   "source": [
    "class Visualiser:\n",
    "    def __init__(self):\n",
    "        self.fig, self.ax = plt.subplots()\n",
    "        self.ln, = plt.plot([], [], 'bo')\n",
    "        self.x_data, self.y_data = [], []\n",
    "\n",
    "    def plot_init(self):\n",
    "        self.ax.set_title('Robot Position', fontweight=\"bold\")\n",
    "        self.ax.set_xlim(-10, 10)\n",
    "        self.ax.set_ylim(-10, 10)\n",
    "        return self.ln\n",
    "\n",
    "    def odom_callback(self, msg):\n",
    "        self.y_data.append(msg.pose.pose.position.y)\n",
    "        self.x_data.append(msg.pose.pose.position.x)\n",
    "\n",
    "    def update_plot(self, frame):\n",
    "        self.ln.set_data(self.x_data, self.y_data)\n",
    "        return self.ln\n",
    "\n",
    "vis = Visualiser()\n",
    "sub_odom = rospy.Subscriber('/odom', Odometry, vis.odom_callback)\n",
    "ani_odom = FuncAnimation(vis.fig, vis.update_plot, init_func=vis.plot_init)\n",
    "plt.show(block=True)"
   ]
  },
  {
   "cell_type": "code",
   "execution_count": 4,
   "id": "d9948bc6",
   "metadata": {
    "ExecuteTime": {
     "end_time": "2022-05-31T16:12:25.618113Z",
     "start_time": "2022-05-31T16:12:24.901740Z"
    }
   },
   "outputs": [
    {
     "data": {
      "image/png": "[encoded data removed]",
      "text/plain": [
       "<Figure size 432x288 with 1 Axes>"
      ]
     },
     "metadata": {
      "needs_background": "light"
     },
     "output_type": "display_data"
    },
    {
     "name": "stdout",
     "output_type": "stream",
     "text": [
      "Using matplotlib backend: TkAgg\n"
     ]
    }
   ],
   "source": [
    "class scanVisualiser:\n",
    "    def __init__(self):\n",
    "        self.fig, self.ax = plt.subplots()\n",
    "        self.ln, = plt.plot([], [], 'ro')\n",
    "        self.scan = []\n",
    "\n",
    "    def plot_init(self):\n",
    "        self.ax.set_title('Laser Scan', fontweight=\"bold\")\n",
    "        self.ax.set_xlim(0, 720)\n",
    "        self.ax.set_ylim(0, 15)\n",
    "        return self.ln\n",
    "\n",
    "    def scan_callback(self, msg):\n",
    "        self.scan.append(msg.ranges)\n",
    "\n",
    "    def update_plot(self, frame):\n",
    "        x = np.arange(1, 721)\n",
    "        self.ln.set_data(x, self.scan[len(self.scan)-1])\n",
    "        return self.ln\n",
    "\n",
    "svis = scanVisualiser()\n",
    "sub_scan = rospy.Subscriber('/scan', LaserScan, svis.scan_callback)\n",
    "ani_scan = FuncAnimation(svis.fig, svis.update_plot, init_func=svis.plot_init)\n",
    "plt.show(block=True)\n",
    "%matplotlib"
   ]
  }
 ],
 "metadata": {
  "hide_input": false,
  "kernelspec": {
   "display_name": "Python 3 (ipykernel)",
   "language": "python",
   "name": "python3"
  },
  "language_info": {
   "codemirror_mode": {
    "name": "ipython",
    "version": 3
   },
   "file_extension": ".py",
   "mimetype": "text/x-python",
   "name": "python",
   "nbconvert_exporter": "python",
   "pygments_lexer": "ipython3",
   "version": "3.8.5"
  },
  "toc": {
   "base_numbering": 1,
   "nav_menu": {},
   "number_sections": true,
   "sideBar": true,
   "skip_h1_title": false,
   "title_cell": "Table of Contents",
   "title_sidebar": "Contents",
   "toc_cell": false,
   "toc_position": {},
   "toc_section_display": true,
   "toc_window_display": false
  },
  "varInspector": {
   "cols": {
    "lenName": 16,
    "lenType": 16,
    "lenVar": 40
   },
   "kernels_config": {
    "python": {
     "delete_cmd_postfix": "",
     "delete_cmd_prefix": "del ",
     "library": "var_list.py",
     "varRefreshCmd": "print(var_dic_list())"
    },
    "r": {
     "delete_cmd_postfix": ") ",
     "delete_cmd_prefix": "rm(",
     "library": "var_list.r",
     "varRefreshCmd": "cat(var_dic_list()) "
    }
   },
   "types_to_exclude": [
    "module",
    "function",
    "builtin_function_or_method",
    "instance",
    "_Feature"
   ],
   "window_display": false
  }
 },
 "nbformat": 4,
 "nbformat_minor": 5
}
